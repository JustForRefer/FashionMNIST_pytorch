{
 "cells": [
  {
   "cell_type": "code",
   "execution_count": 1,
   "id": "95a5e30f",
   "metadata": {},
   "outputs": [],
   "source": [
    "import torch\n",
    "import matplotlib.pyplot as plt\n",
    "import numpy as np\n",
    "%matplotlib inline\n",
    "import torch.nn as nn\n",
    "import torch.nn.functional as F\n",
    "import torch.optim as optim\n",
    "import torchvision"
   ]
  },
  {
   "cell_type": "code",
   "execution_count": 2,
   "id": "3607467d",
   "metadata": {},
   "outputs": [
    {
     "data": {
      "text/plain": [
       "<torch.autograd.grad_mode.set_grad_enabled at 0x18f887afc40>"
      ]
     },
     "execution_count": 2,
     "metadata": {},
     "output_type": "execute_result"
    }
   ],
   "source": [
    "import torchvision.transforms as transforms\n",
    "torch.set_printoptions(linewidth=120)#Display options for output\n",
    "torch.set_grad_enabled(True)#Already on by default"
   ]
  },
  {
   "cell_type": "code",
   "execution_count": 3,
   "id": "89e74948",
   "metadata": {},
   "outputs": [
    {
     "name": "stdout",
     "output_type": "stream",
     "text": [
      "1.8.1\n"
     ]
    }
   ],
   "source": [
    "print(torch.__version__)"
   ]
  },
  {
   "cell_type": "code",
   "execution_count": 4,
   "id": "c00e8bc0",
   "metadata": {},
   "outputs": [
    {
     "name": "stdout",
     "output_type": "stream",
     "text": [
      "0.9.1\n"
     ]
    }
   ],
   "source": [
    "print(torchvision.__version__)"
   ]
  },
  {
   "cell_type": "code",
   "execution_count": 5,
   "id": "78759baf",
   "metadata": {},
   "outputs": [],
   "source": [
    "def get_num_correct(preds,labels):\n",
    "    return preds.argmax(dim=1).eq(labels).sum().item()"
   ]
  },
  {
   "cell_type": "code",
   "execution_count": 6,
   "id": "c2f15ae2",
   "metadata": {},
   "outputs": [],
   "source": [
    "class Network(nn.Module):\n",
    "    def __init__(self):\n",
    "        super().__init__()\n",
    "        self.conv1 = nn.Conv2d(in_channels=1,out_channels=6,kernel_size=5)\n",
    "        self.conv2 = nn.Conv2d(in_channels=6,out_channels=12,kernel_size=5)\n",
    "        \n",
    "        self.fc1 = nn.Linear(in_features=12*4*4,out_features=120)\n",
    "        self.fc2 = nn.Linear(in_features=120,out_features=60)\n",
    "        self.out = nn.Linear(in_features=60,out_features=10)\n",
    "        \n",
    "    def forward(self,t):\n",
    "        \n",
    "        t=t\n",
    "        t=F.relu(self.conv1(t))\n",
    "        t=F.max_pool2d(t,kernel_size=2,stride=2)\n",
    "        t=F.relu(self.conv2(t))\n",
    "        t=F.max_pool2d(t,kernel_size=2,stride=2)\n",
    "        t=t.reshape(-1,12*4*4)\n",
    "        t=F.relu(self.fc1(t))\n",
    "        t=F.relu(self.fc2(t))\n",
    "        t = self.out(t)\n",
    "        return t"
   ]
  },
  {
   "cell_type": "code",
   "execution_count": 7,
   "id": "87805c60",
   "metadata": {},
   "outputs": [],
   "source": [
    "train_set = torchvision.datasets.FashionMNIST(root='./data',train=True,download=True,transform=transforms.Compose([transforms.ToTensor()]))"
   ]
  },
  {
   "cell_type": "code",
   "execution_count": 8,
   "id": "b836da48",
   "metadata": {},
   "outputs": [],
   "source": [
    "network = Network()\n",
    "\n",
    "train_loader = torch.utils.data.DataLoader(train_set,batch_size=100)"
   ]
  },
  {
   "cell_type": "code",
   "execution_count": 9,
   "id": "1ee2a1c8",
   "metadata": {},
   "outputs": [],
   "source": [
    "optimizer = optim.Adam(network.parameters(),lr=0.01)"
   ]
  },
  {
   "cell_type": "code",
   "execution_count": 10,
   "id": "13d0ebc9",
   "metadata": {},
   "outputs": [
    {
     "name": "stdout",
     "output_type": "stream",
     "text": [
      "epoch: 0 total_correct: 47411 loss: 334.3353061378002\n",
      "epoch: 1 total_correct: 51407 loss: 233.31382976472378\n",
      "epoch: 2 total_correct: 52066 loss: 211.10944166779518\n",
      "epoch: 3 total_correct: 52345 loss: 203.3838357180357\n",
      "epoch: 4 total_correct: 52714 loss: 195.05218057334423\n",
      "epoch: 5 total_correct: 52873 loss: 190.49058155715466\n",
      "epoch: 6 total_correct: 53076 loss: 185.36332769691944\n",
      "epoch: 7 total_correct: 53135 loss: 183.21999670565128\n",
      "epoch: 8 total_correct: 53300 loss: 180.14258486777544\n",
      "epoch: 9 total_correct: 53284 loss: 180.69854579865932\n"
     ]
    }
   ],
   "source": [
    "for epoch in range(0,10):\n",
    "    total_loss=0\n",
    "    total_correct=0\n",
    "    for batch in train_loader: #Get batch\n",
    "        images,labels = batch\n",
    "        preds = network(images) #Pass batch\n",
    "        loss = F.cross_entropy(preds,labels)#Calculate loss\n",
    "        optimizer.zero_grad()\n",
    "        loss.backward()#Calculates gradients\n",
    "        optimizer.step()#Updates weights\n",
    "        total_loss+=loss.item()\n",
    "        total_correct+=get_num_correct(preds,labels)\n",
    "    print(\"epoch:\",epoch,\"total_correct:\",total_correct,\"loss:\",total_loss)\n",
    "        "
   ]
  },
  {
   "cell_type": "code",
   "execution_count": 11,
   "id": "164b24d0",
   "metadata": {},
   "outputs": [
    {
     "data": {
      "text/plain": [
       "0.8880666666666667"
      ]
     },
     "execution_count": 11,
     "metadata": {},
     "output_type": "execute_result"
    }
   ],
   "source": [
    "total_correct/len(train_set)"
   ]
  },
  {
   "cell_type": "code",
   "execution_count": null,
   "id": "bd2ada33",
   "metadata": {},
   "outputs": [],
   "source": []
  }
 ],
 "metadata": {
  "kernelspec": {
   "display_name": "Python 3",
   "language": "python",
   "name": "python3"
  },
  "language_info": {
   "codemirror_mode": {
    "name": "ipython",
    "version": 3
   },
   "file_extension": ".py",
   "mimetype": "text/x-python",
   "name": "python",
   "nbconvert_exporter": "python",
   "pygments_lexer": "ipython3",
   "version": "3.8.8"
  }
 },
 "nbformat": 4,
 "nbformat_minor": 5
}
